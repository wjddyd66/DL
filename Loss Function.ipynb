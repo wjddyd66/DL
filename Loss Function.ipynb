{
 "cells": [
  {
   "cell_type": "code",
   "execution_count": 1,
   "metadata": {},
   "outputs": [],
   "source": [
    "import numpy as np\n",
    "import tensorflow as tf"
   ]
  },
  {
   "cell_type": "code",
   "execution_count": 2,
   "metadata": {},
   "outputs": [],
   "source": [
    "#MSE선언\n",
    "def MSE(y,y_):\n",
    "    return 0.5*np.sum((y-y_)*(y-y_))"
   ]
  },
  {
   "cell_type": "code",
   "execution_count": 6,
   "metadata": {},
   "outputs": [
    {
     "name": "stdout",
     "output_type": "stream",
     "text": [
      "Error1:  2.1434971942835075\n",
      "Error2:  2.0271222025788003\n"
     ]
    }
   ],
   "source": [
    "#MSE로 Error 구해보기\n",
    "data = [0,0,1.0,0,0,0,0,0,0,0]\n",
    "y1 =  np.random.rand(10)\n",
    "y2 = np.random.rand(10)\n",
    "\n",
    "error1 = MSE(data,y1)\n",
    "error2 = MSE(data,y2)\n",
    "\n",
    "print('Error1: ',error1) #Error1:  2.1434971942835075\n",
    "print('Error2: ',error2) #Error2:  2.0271222025788003"
   ]
  },
  {
   "cell_type": "code",
   "execution_count": 7,
   "metadata": {},
   "outputs": [],
   "source": [
    "#Cross Entropy 선언\n",
    "def CE(y,y_):\n",
    "    delta = 1e-7\n",
    "    return -np.sum(y_*np.log(y+delta))\n",
    "#y가 0일경우 infinite를 반환하므로 매우 적은 값을 더해주는 과정이 필요"
   ]
  },
  {
   "cell_type": "code",
   "execution_count": 14,
   "metadata": {},
   "outputs": [
    {
     "name": "stdout",
     "output_type": "stream",
     "text": [
      "Error1:  6.447238200383332\n",
      "Error2:  14.50628607586249\n"
     ]
    }
   ],
   "source": [
    "error1 = CE(np.array(data),y1)\n",
    "error2 = CE(np.array(data),y2)\n",
    "\n",
    "print('Error1: ',error1) #Error1:  6.447238200383332\n",
    "print('Error2: ',error2) #Error2:  14.50628607586249"
   ]
  }
 ],
 "metadata": {
  "kernelspec": {
   "display_name": "Python 3",
   "language": "python",
   "name": "python3"
  },
  "language_info": {
   "codemirror_mode": {
    "name": "ipython",
    "version": 3
   },
   "file_extension": ".py",
   "mimetype": "text/x-python",
   "name": "python",
   "nbconvert_exporter": "python",
   "pygments_lexer": "ipython3",
   "version": "3.7.3"
  }
 },
 "nbformat": 4,
 "nbformat_minor": 2
}
