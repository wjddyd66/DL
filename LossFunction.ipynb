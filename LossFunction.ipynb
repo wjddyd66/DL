{
 "cells": [
  {
   "cell_type": "code",
   "execution_count": 1,
   "metadata": {},
   "outputs": [],
   "source": [
    "import numpy as np\n",
    "import tensorflow as tf"
   ]
  },
  {
   "cell_type": "code",
   "execution_count": 2,
   "metadata": {},
   "outputs": [],
   "source": [
    "#MSE선언\n",
    "def MSE(y,y_):\n",
    "    return 0.5*np.sum((y-y_)*(y-y_))"
   ]
  },
  {
   "cell_type": "code",
   "execution_count": 3,
   "metadata": {},
   "outputs": [
    {
     "name": "stdout",
     "output_type": "stream",
     "text": [
      "Error1:  1.682444310915726\n",
      "Error2:  1.4036396123384067\n"
     ]
    }
   ],
   "source": [
    "#MSE로 Error 구해보기\n",
    "data = [0,0,1.0,0,0,0,0,0,0,0]\n",
    "y1 =  np.random.rand(10)\n",
    "y2 = np.random.rand(10)\n",
    "\n",
    "error1 = MSE(data,y1)\n",
    "error2 = MSE(data,y2)\n",
    "\n",
    "print('Error1: ',error1) #Error1:  1.682444310915726\n",
    "print('Error2: ',error2) #Error2:  1.4036396123384067"
   ]
  },
  {
   "cell_type": "code",
   "execution_count": 4,
   "metadata": {},
   "outputs": [],
   "source": [
    "#Cross Entropy 선언\n",
    "def CE(y,y_):\n",
    "    delta = 1e-7\n",
    "    return -np.sum(y_*np.log(y+delta))\n",
    "#y가 0일경우 infinite를 반환하므로 매우 적은 값을 더해주는 과정이 필요"
   ]
  },
  {
   "cell_type": "code",
   "execution_count": 5,
   "metadata": {},
   "outputs": [
    {
     "name": "stdout",
     "output_type": "stream",
     "text": [
      "Error1:  57.14002307803014\n",
      "Error2:  55.90310988187259\n"
     ]
    }
   ],
   "source": [
    "error1 = CE(np.array(data),y1)\n",
    "error2 = CE(np.array(data),y2)\n",
    "\n",
    "print('Error1: ',error1) #Error1:  57.14002307803014\n",
    "print('Error2: ',error2) #Error2:  55.90310988187259"
   ]
  },
  {
   "cell_type": "code",
   "execution_count": 6,
   "metadata": {},
   "outputs": [],
   "source": [
    "#Cross Entropy Batch선언(One-Hot-Encoding)\n",
    "def BCE(y,y_):\n",
    "    delta = 1e-7\n",
    "    batch_size = y.shape[0]\n",
    "    return -np.sum(y_*np.log(y+delta))/batch_size"
   ]
  },
  {
   "cell_type": "code",
   "execution_count": 7,
   "metadata": {},
   "outputs": [
    {
     "name": "stdout",
     "output_type": "stream",
     "text": [
      "Error1:  5.714002307803014\n",
      "Error2:  5.590310988187259\n"
     ]
    }
   ],
   "source": [
    "error1 = BCE(np.array(data),y1)\n",
    "error2 = BCE(np.array(data),y2)\n",
    "\n",
    "print('Error1: ',error1) #Error1:  5.714002307803014\n",
    "print('Error2: ',error2) #Error2:  5.590310988187259"
   ]
  },
  {
   "cell_type": "code",
   "execution_count": 8,
   "metadata": {},
   "outputs": [],
   "source": [
    "#Cross Entropy Batch선언(Label)\n",
    "def BCE2(y,y_):\n",
    "    delta = 1e-7\n",
    "    batch_size = y.shape[0]\n",
    "    if y.ndim == 1:\n",
    "        y_ = y_.reshape(1,y_.shape[0])\n",
    "        y = y.reshape(1,y.shape[0])\n",
    "    \n",
    "    \n",
    "    return -np.sum(np.log([y+1e-7,y_+1e-7]))/batch_size"
   ]
  },
  {
   "cell_type": "code",
   "execution_count": 9,
   "metadata": {},
   "outputs": [],
   "source": [
    "data = np.array([1,2,3,4])\n",
    "y1 =  np.array([6,7,1,2])\n",
    "y2 = np.array([3,4,1,2])"
   ]
  },
  {
   "cell_type": "code",
   "execution_count": 10,
   "metadata": {},
   "outputs": [
    {
     "name": "stdout",
     "output_type": "stream",
     "text": [
      "Error1:  -1.90221775461924\n",
      "Error2:  -1.589027019340636\n"
     ]
    }
   ],
   "source": [
    "error1 = BCE2(np.array(data),y1)\n",
    "error2 = BCE2(np.array(data),y2)\n",
    "\n",
    "print('Error1: ',error1) #Error1:  -1.90221775461924\n",
    "print('Error2: ',error2) #Error2:  -1.589027019340636"
   ]
  }
 ],
 "metadata": {
  "kernelspec": {
   "display_name": "Python 3",
   "language": "python",
   "name": "python3"
  },
  "language_info": {
   "codemirror_mode": {
    "name": "ipython",
    "version": 3
   },
   "file_extension": ".py",
   "mimetype": "text/x-python",
   "name": "python",
   "nbconvert_exporter": "python",
   "pygments_lexer": "ipython3",
   "version": "3.7.3"
  }
 },
 "nbformat": 4,
 "nbformat_minor": 2
}
